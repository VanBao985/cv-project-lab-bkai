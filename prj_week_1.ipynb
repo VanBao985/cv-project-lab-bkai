{
 "cells": [
  {
   "cell_type": "markdown",
   "metadata": {},
   "source": [
    "## Project 1.2 Count Objects\n",
    "Given a set of images in which several subjects are captured against a relatively uniform, possibly noisy background, count the number of objects in each image. The objective is to define a processing pipeline that works for all images. You should explain the common processing pipeline and the results achieved. All images from a scene should be processed using the same parameter values, if applicable."
   ]
  },
  {
   "cell_type": "markdown",
   "metadata": {},
   "source": [
    "<h3>1. Read image and convert to Gray levels image</h3>"
   ]
  },
  {
   "cell_type": "code",
   "execution_count": null,
   "metadata": {},
   "outputs": [],
   "source": [
    "import cv2 \n",
    "import numpy as np \n",
    "import math\n",
    "from scipy.ndimage import maximum_filter \n",
    "import matplotlib.pyplot as plt     \n",
    "import seaborn as sns \n",
    "import matplotlib.pyplot as plt \n",
    "\n",
    "Images = []\n",
    "Result_Images = []\n",
    "Gray_Images = []\n",
    "for i in range(4):\n",
    "      image = cv2.imread(f\"./Images/1_2_{i+1}.png\")\n",
    "      Images.append(image)\n",
    "\n",
    "for image in Images:\n",
    "      image_gray = cv2.cvtColor(image, cv2.COLOR_RGB2GRAY)\n",
    "      Gray_Images.append(image_gray)"
   ]
  },
  {
   "cell_type": "markdown",
   "metadata": {},
   "source": [
    "<h3>2. Filter noise</h3>\n",
    "<h4>a. Filter sinus noise using FFT (Fast Fourier transform)</h4>\n",
    "\"Loại bỏ cực đại địa phương, giữ lại cực đại trung tâm\", \"Tham số k tăng, mask lớn, thông tin giữ lại nhiều, bộ lọc thông thấp lọc ít tín hiệu nhiễu, ngược lại, k thấp lọc tốt hơn, nhưng mất mát ảnh hơn\""
   ]
  },
  {
   "cell_type": "code",
   "execution_count": null,
   "metadata": {},
   "outputs": [],
   "source": [
    "sinus_image_filtered = []\n",
    "for img in Gray_Images:\n",
    "    # Compute the Fourier transform\n",
    "    dft = cv2.dft(np.float32(img), flags= cv2.DFT_COMPLEX_OUTPUT)      \n",
    "    fshift = np.fft.fftshift(dft)  \n",
    "    magnitude_spectrum = 20 * np.log(cv2.magnitude(fshift[:, :, 0], fshift[:, :, 1])+1) # Compute the magnitude spectrum (phổ biên độ)\n",
    "\n",
    "    # # plot the image and its spectrum\n",
    "    # fig, ax = plt.subplots(1, 2, figsize=(12, 6))\n",
    "    # ax[0].imshow(img, cmap='gray'), ax[0].set_title('Input Image'), ax[0].axis('off')   \n",
    "    # ax[1].imshow(magnitude_spectrum, cmap='viridis'), ax[1].set_title('Magnitude Spectrum'), ax[1].axis('off')\n",
    "    # plt.show()\n",
    "\n",
    "    # Set a cutoff frequency\n",
    "    is_max = np.zeros_like(fshift, dtype=bool)\n",
    "    crow, ccol = int(fshift.shape[0] / 2), int(fshift.shape[1] / 2)\n",
    "    is_max[crow, ccol-8]=True  # Cực đại\n",
    "    is_max[crow, ccol+8]=True  # Cực đại\n",
    "    filtered_fshift = np.copy(fshift)\n",
    "    filtered_fshift[is_max] = 0  # filtering\n",
    "\n",
    "    # Compute the magnitude spectrum\n",
    "    filtered_magnitude = 20 * np.log(cv2.magnitude(filtered_fshift[:, :, 0], filtered_fshift[:, :, 1])+1)\n",
    "    # Compute the inverse Fourier transform\n",
    "    dft_filtered = np.fft.ifftshift(filtered_fshift)\n",
    "    img_back = cv2.idft(dft_filtered)\n",
    "    img_back = cv2.magnitude(img_back[:, :, 0], img_back[:, :, 1])\n",
    "    img_back = cv2.normalize(img_back, None, 0, 255, cv2.NORM_MINMAX).astype('uint8')\n",
    "\n",
    "    # Apply Unsharp Mask to enhance details \n",
    "    highpass = cv2.GaussianBlur(img_back, (5, 5), 0)  \n",
    "    img_back = cv2.addWeighted(img_back, 0.6, highpass, -0.2, 0)\n",
    "\n",
    "    # plot the image and its spectrum\n",
    "    fig, ax = plt.subplots(1, 2, figsize=(12, 6))\n",
    "    ax[0].imshow(img_back, cmap='gray'), ax[0].set_title('Output Image'), ax[0].axis('off')   \n",
    "    ax[1].imshow(filtered_magnitude, cmap='viridis'), ax[1].set_title('Magnitude Spectrum'), ax[1].axis('off')\n",
    "    plt.show()\n",
    "\n",
    "    sinus_image_filtered.append(img_back)"
   ]
  },
  {
   "cell_type": "markdown",
   "metadata": {},
   "source": [
    "<h4>b. Filter noise salt, pepper</h4>"
   ]
  },
  {
   "cell_type": "code",
   "execution_count": null,
   "metadata": {},
   "outputs": [],
   "source": [
    "def show_img_hist(images):\n",
    "    _, fg = plt.subplots(4, 2, figsize=(10, 10))\n",
    "    for i, img in enumerate(images):\n",
    "        sns.histplot(img.ravel(), color=\"k\", ax=fg[i, 0])\n",
    "        fg[i, 1].imshow(img, cmap=\"gray\")\n",
    "    plt.tight_layout()\n",
    "    plt.show()"
   ]
  },
  {
   "cell_type": "code",
   "execution_count": null,
   "metadata": {},
   "outputs": [],
   "source": [
    "filtered_image = []\n",
    "for img in sinus_image_filtered:\n",
    "    image = cv2.medianBlur(img, 5)\n",
    "    filtered_image.append(image)"
   ]
  },
  {
   "cell_type": "markdown",
   "metadata": {},
   "source": [
    "<h4>c. Laplace filter to sharpe edge</h4>"
   ]
  },
  {
   "cell_type": "code",
   "execution_count": null,
   "metadata": {},
   "outputs": [],
   "source": [
    "laplacian_image = []\n",
    "_, ax = plt.subplots(2, 2, figsize=(10, 10))\n",
    "\n",
    "for i, img in enumerate(filtered_image):\n",
    "    laplacian = cv2.Laplacian(img, cv2.CV_64F)\n",
    "    laplacian = cv2.convertScaleAbs(laplacian)\n",
    "    enhanced_laplacian = cv2.addWeighted(img, 0.9, laplacian,1.2, 0)\n",
    "    ax[i // 2, i % 2].imshow(enhanced_laplacian, cmap=\"gray\"), ax[i // 2, i % 2].axis(\"off\")\n",
    "    laplacian_image.append(enhanced_laplacian)\n",
    "plt.tight_layout()\n",
    "plt.show()"
   ]
  },
  {
   "cell_type": "markdown",
   "metadata": {},
   "source": [
    "<h3>3. Normalize, adjust Brightness, equalize histogram,... </h3>\n",
    "a. Normalize the image: 0 -> 255, cv2.NORM_MINMAX (x - min) / (max - min)<br>\n",
    "b. Increase Brightness by using gamma correction"
   ]
  },
  {
   "cell_type": "code",
   "execution_count": null,
   "metadata": {},
   "outputs": [],
   "source": [
    "normalized_image = []\n",
    "for img in laplacian_image:\n",
    "    normalized = cv2.normalize(img, None, 0, 255, cv2.NORM_MINMAX).astype('uint8')\n",
    "    gamma = 0.45\n",
    "    gamma_corrected = np.array(255*((img / 255) ** gamma), dtype = 'uint8')\n",
    "    normalized_image.append(gamma_corrected)"
   ]
  },
  {
   "cell_type": "markdown",
   "metadata": {},
   "source": [
    "<h3>4. Convert to Binary image (By using threshold function)</h3>"
   ]
  },
  {
   "cell_type": "code",
   "execution_count": null,
   "metadata": {},
   "outputs": [],
   "source": [
    "binary_image = []\n",
    "_, ax = plt.subplots(2, 2, figsize=(10, 10))  \n",
    "for i, img in enumerate(normalized_image):\n",
    "    binary_img= cv2.threshold(img, 140, 255, cv2.THRESH_BINARY)[1]\n",
    "    ax[i // 2, i % 2].imshow(binary_img, cmap=\"gray\"), ax[i // 2, i % 2].axis(\"off\")\n",
    "    binary_image.append(binary_img) \n",
    "plt.tight_layout()\n",
    "plt.show()"
   ]
  },
  {
   "cell_type": "markdown",
   "metadata": {},
   "source": [
    "<h3>5. Morphological operator on binary image (Opening, Closing)</h3>\n",
    "Opening: Erision --> Dilation  (remove bridges, noise, small object, ..., but keep origin shape) <br>\n",
    "Closing: Dilation --> Erision  (fill holes, keep origin shape) "
   ]
  },
  {
   "cell_type": "code",
   "execution_count": null,
   "metadata": {},
   "outputs": [],
   "source": [
    "kernel1 = cv2.getStructuringElement(cv2.MORPH_RECT, (6, 6))  \n",
    "kernel2 = cv2.getStructuringElement(cv2.MORPH_RECT, (7, 7))  \n",
    "\n",
    "for img in binary_image:\n",
    "    image = cv2.morphologyEx(img, cv2.MORPH_DILATE, kernel1)\n",
    "\n",
    "    image = cv2.morphologyEx(image, cv2.MORPH_ERODE, kernel2)\n"
   ]
  }
 ],
 "metadata": {
  "kernelspec": {
   "display_name": "ML_DMCourse",
   "language": "python",
   "name": "ml_dmcourse"
  },
  "language_info": {
   "codemirror_mode": {
    "name": "ipython",
    "version": 3
   },
   "file_extension": ".py",
   "mimetype": "text/x-python",
   "name": "python",
   "nbconvert_exporter": "python",
   "pygments_lexer": "ipython3",
   "version": "3.12.7"
  }
 },
 "nbformat": 4,
 "nbformat_minor": 2
}
